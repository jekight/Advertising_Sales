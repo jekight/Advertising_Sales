{
 "cells": [
  {
   "cell_type": "markdown",
   "metadata": {},
   "source": [
    "\n",
    "# <center>Advertising Sales Model\n",
    "<center> Author: Jeremy Kight\n",
    "<center> Date: 01/23/2020\n",
    "\n",
    "***"
   ]
  },
  {
   "cell_type": "markdown",
   "metadata": {},
   "source": [
    "# Abstract\n",
    "\n",
    "In this project, a linear regression model was created with the intent on predicting the amount of profit a company could expect to obtain based on the monetary amount spent on various forms of advertisments. Through statiscal testing, it was determined that out of tv, radio, and newspaper advertising, only tv and radio advertisment data should be used in predicting sales. The final regression model was determined to be in the form of $Sales = 2.947 + (0.047 \\times TV) + (0.180 \\times Radio)$, where Sales is the amount of profit made, TV is the budget allocated to tv advertisments, and Radio is the budget allocated to radio advertisments. Within the scope of the data given, the completed machine learning model was able to perfom with a root mean squared value (RMSE) of 1.398 and a R<sup>2</sup> value of 0.886. In this case, the model is considered satisfactory since it would provide a company with a good estimate of how much money they are expected to gain from advertising. Of course with more data, a more accurate model could be derived. To have to greatest impact, the new data would need to be focused on tv and radio advertisment budgets. However, more data should be gathered on newspaper advertisment budgets to ensure that it is not statistically significant.  \n"
   ]
  },
  {
   "cell_type": "markdown",
   "metadata": {},
   "source": [
    "# Introduction\n",
    "\n",
    "For many companies, advertising is an instrumental aspect of their business model. A company chooses a marketing strategy, with the goal of reaching as many people that are most likely to buy their products. For decades, advertising mediums included newspapers, radios, and tvs. However, with the explosion of the internet and social media, companies now look at advertising through other companies. For example, a company may choose to pay Facebook so that their ads will appear on potential costumers timelines. Since advertisments cost companies money, companies need to be able to determine whether their advertising strategies are successful. This report will look at how a company can use machine learning to determine the sales from tv, radio, and newspaper advertisments. "
   ]
  },
  {
   "cell_type": "markdown",
   "metadata": {},
   "source": [
    "# Procedure\n",
    "\n",
    "In order to carry out this project, it is recommened to download Anaconda. Anaconda provides all the tools, libraries, and packages needed for this project. If needed, click [here](\"https://www.anaconda.com/\") to be taken to Anaconda's website to download the required material. The programming language that will be used to build this particular machine learning algorithm will be Python. The Python code will be written in Jupyter, which can be found [here](https://github.com/jekight/Advertising_Sales) in my github repository called \"Advertising Sales\". In this repository, the dataset used in this project can also be found. Once the setup is complete and the dataset is saved in the working directory, the following steps can be taken to build a machine learning model to determine sales from advertisments.\n",
    "\n",
    "Step 1) Import the dataset as a dataframe\n",
    "\n",
    "Step 2) View the dataset to understand the contents\n",
    "\n",
    "Step 3) View the statistical information of the dataset\n",
    "\n",
    "Step 4) Create data visualizations\n",
    "\n",
    "Step 5) Create feature and target groups\n",
    "\n",
    "Step 6) Split the dataset into training and testing groups\n",
    "\n",
    "Step 7) Build machine learning models\n",
    "\n",
    "Step 8) Evaluate the various models\n",
    "\n",
    "Step 9) Make predictions using the test dataset\n",
    "\n",
    "Step 10) Evaluate the performance of the model\n",
    "\n",
    "Step 11) Save the working model\n",
    "\n",
    "***"
   ]
  },
  {
   "cell_type": "markdown",
   "metadata": {},
   "source": [
    "## Setup\n",
    "\n",
    "The first step involves using the libary \"pandas\" to load in the dataset, in order to analyze the data. Thus, the pandas library is the first library that needs to be imported. However, before importing the dataset in, the possibility of the dataset containing missing values needs to be accounted for. Since Pandas will not recognize all the various ways missing data may be presented, a list can be created to tell Pandas what to look for. Thus, a variable named \"missing_values\" is created and will contain various ways missing data points may be presented. Then a new variable will be created to store the imported dataset."
   ]
  },
  {
   "cell_type": "code",
   "execution_count": 1,
   "metadata": {},
   "outputs": [],
   "source": [
    "#Import the advertising dataset\n",
    "import pandas as pd\n",
    "missing_values = [\"NA\",\"N/A\",\"n/a\", \"na\", \"--\", \" \"]\n",
    "dataset = pd.read_csv('Advertising.csv', na_values = missing_values, index_col=0)"
   ]
  },
  {
   "cell_type": "markdown",
   "metadata": {},
   "source": [
    "## Exploring The Dataset\n",
    "\n",
    "Next, the dataset will be explored in order to understand the contents. First, the shape of the dataset will be revealed, followed by finding out what all the column names are. While the first few steps are completely optional, but they will provide a better understanding of the size of the dataset and what features might be important for model building. Then, it is a good idea to view a small sample of the dataset by using the head( ) function. "
   ]
  },
  {
   "cell_type": "code",
   "execution_count": 2,
   "metadata": {},
   "outputs": [
    {
     "data": {
      "text/plain": [
       "(200, 4)"
      ]
     },
     "execution_count": 2,
     "metadata": {},
     "output_type": "execute_result"
    }
   ],
   "source": [
    "# View the shape of the dataset\n",
    "dataset.shape"
   ]
  },
  {
   "cell_type": "markdown",
   "metadata": {},
   "source": [
    "From the results above, it was determined that the dataset contains 200 rows and 4 columns. One reason that viewing the shape of a dataset first is important is because sometimes the datasets may be very large. Thus, viewing the entire dataset is not feasible.  \n"
   ]
  },
  {
   "cell_type": "code",
   "execution_count": 3,
   "metadata": {},
   "outputs": [
    {
     "data": {
      "text/plain": [
       "Index(['TV Ad Budget ($)', 'Radio Ad Budget ($)', 'Newspaper Ad Budget ($)',\n",
       "       'Sales ($)'],\n",
       "      dtype='object')"
      ]
     },
     "execution_count": 3,
     "metadata": {},
     "output_type": "execute_result"
    }
   ],
   "source": [
    "# View the various column names in the dataset.\n",
    "dataset.columns"
   ]
  },
  {
   "cell_type": "markdown",
   "metadata": {},
   "source": [
    "The above output shows the column names contained in the dataset. From here, the ideas of which columns will be the features and which column will be the target can start to be pondered. Also, if there are any spelling mistakes in the dataset or column names that should be changed, now would be the time. In this case, the column names will be adjusted to make the names shorter and easier to type. "
   ]
  },
  {
   "cell_type": "code",
   "execution_count": 4,
   "metadata": {},
   "outputs": [
    {
     "data": {
      "text/plain": [
       "Index(['TV', 'Radio', 'Newspaper', 'Sales'], dtype='object')"
      ]
     },
     "execution_count": 4,
     "metadata": {},
     "output_type": "execute_result"
    }
   ],
   "source": [
    "dataset.rename(columns={'TV Ad Budget ($)':'TV', 'Radio Ad Budget ($)':'Radio', 'Newspaper Ad Budget ($)':'Newspaper',\n",
    "       'Sales ($)':'Sales'}, inplace=True)\n",
    "dataset.columns"
   ]
  },
  {
   "cell_type": "markdown",
   "metadata": {},
   "source": [
    "The column names were shortened to 'TV', 'Radio', 'Newspaper', and 'Sales'. This will make the codes shorter and easier to read later on when specific columns are called. Next, the head( ) function is used in order to view the first few rows of the dataset."
   ]
  },
  {
   "cell_type": "code",
   "execution_count": 5,
   "metadata": {
    "scrolled": true
   },
   "outputs": [
    {
     "data": {
      "text/html": [
       "<div>\n",
       "<style scoped>\n",
       "    .dataframe tbody tr th:only-of-type {\n",
       "        vertical-align: middle;\n",
       "    }\n",
       "\n",
       "    .dataframe tbody tr th {\n",
       "        vertical-align: top;\n",
       "    }\n",
       "\n",
       "    .dataframe thead th {\n",
       "        text-align: right;\n",
       "    }\n",
       "</style>\n",
       "<table border=\"1\" class=\"dataframe\">\n",
       "  <thead>\n",
       "    <tr style=\"text-align: right;\">\n",
       "      <th></th>\n",
       "      <th>TV</th>\n",
       "      <th>Radio</th>\n",
       "      <th>Newspaper</th>\n",
       "      <th>Sales</th>\n",
       "    </tr>\n",
       "  </thead>\n",
       "  <tbody>\n",
       "    <tr>\n",
       "      <td>1</td>\n",
       "      <td>230.1</td>\n",
       "      <td>37.8</td>\n",
       "      <td>69.2</td>\n",
       "      <td>22.1</td>\n",
       "    </tr>\n",
       "    <tr>\n",
       "      <td>2</td>\n",
       "      <td>44.5</td>\n",
       "      <td>39.3</td>\n",
       "      <td>45.1</td>\n",
       "      <td>10.4</td>\n",
       "    </tr>\n",
       "    <tr>\n",
       "      <td>3</td>\n",
       "      <td>17.2</td>\n",
       "      <td>45.9</td>\n",
       "      <td>69.3</td>\n",
       "      <td>9.3</td>\n",
       "    </tr>\n",
       "    <tr>\n",
       "      <td>4</td>\n",
       "      <td>151.5</td>\n",
       "      <td>41.3</td>\n",
       "      <td>58.5</td>\n",
       "      <td>18.5</td>\n",
       "    </tr>\n",
       "    <tr>\n",
       "      <td>5</td>\n",
       "      <td>180.8</td>\n",
       "      <td>10.8</td>\n",
       "      <td>58.4</td>\n",
       "      <td>12.9</td>\n",
       "    </tr>\n",
       "  </tbody>\n",
       "</table>\n",
       "</div>"
      ],
      "text/plain": [
       "      TV  Radio  Newspaper  Sales\n",
       "1  230.1   37.8       69.2   22.1\n",
       "2   44.5   39.3       45.1   10.4\n",
       "3   17.2   45.9       69.3    9.3\n",
       "4  151.5   41.3       58.5   18.5\n",
       "5  180.8   10.8       58.4   12.9"
      ]
     },
     "execution_count": 5,
     "metadata": {},
     "output_type": "execute_result"
    }
   ],
   "source": [
    "# View the initial few records of the dataset\n",
    "dataset.head()"
   ]
  },
  {
   "cell_type": "markdown",
   "metadata": {},
   "source": [
    "Up until now, the dataset has now been seen. Yet, it was already determined that the dataset only contained 4 columns with the names set earlier. As a result, the head( ) function serves as more of a confirmation that the dataset is what is already expected. Note that the actual shape of the dataset would be unknown without using the shape( ) function earlier. If it was desirable to view the entire data table then one could do so, however, this would not be a great option for large datasets."
   ]
  },
  {
   "cell_type": "code",
   "execution_count": 6,
   "metadata": {},
   "outputs": [
    {
     "data": {
      "text/plain": [
       "TV           0\n",
       "Radio        0\n",
       "Newspaper    0\n",
       "Sales        0\n",
       "dtype: int64"
      ]
     },
     "execution_count": 6,
     "metadata": {},
     "output_type": "execute_result"
    }
   ],
   "source": [
    "# Check to see if any columns contain missing values.\n",
    "dataset.isnull().sum()"
   ]
  },
  {
   "cell_type": "markdown",
   "metadata": {},
   "source": [
    "Since the entire dataset has not been viewed, it would be impossible to know if there were any missing values within the dataset. This is something that should be checked because it will impact the results of the analysis and model building. The above output shows that there are no missing values in any of the columns. So it is safe to move on. "
   ]
  },
  {
   "cell_type": "markdown",
   "metadata": {},
   "source": [
    "## Statistical Summary\n",
    "\n",
    "Anytime an analysis is being performed, it is a good idea to view the basic statistics of the dataset. The goal of the following code is just to see what the count, mean, and quartiles are of each column. This will also be visualized later on."
   ]
  },
  {
   "cell_type": "code",
   "execution_count": 7,
   "metadata": {
    "scrolled": true
   },
   "outputs": [
    {
     "data": {
      "text/html": [
       "<div>\n",
       "<style scoped>\n",
       "    .dataframe tbody tr th:only-of-type {\n",
       "        vertical-align: middle;\n",
       "    }\n",
       "\n",
       "    .dataframe tbody tr th {\n",
       "        vertical-align: top;\n",
       "    }\n",
       "\n",
       "    .dataframe thead th {\n",
       "        text-align: right;\n",
       "    }\n",
       "</style>\n",
       "<table border=\"1\" class=\"dataframe\">\n",
       "  <thead>\n",
       "    <tr style=\"text-align: right;\">\n",
       "      <th></th>\n",
       "      <th>TV</th>\n",
       "      <th>Radio</th>\n",
       "      <th>Newspaper</th>\n",
       "      <th>Sales</th>\n",
       "    </tr>\n",
       "  </thead>\n",
       "  <tbody>\n",
       "    <tr>\n",
       "      <td>count</td>\n",
       "      <td>200.000000</td>\n",
       "      <td>200.000000</td>\n",
       "      <td>200.000000</td>\n",
       "      <td>200.000000</td>\n",
       "    </tr>\n",
       "    <tr>\n",
       "      <td>mean</td>\n",
       "      <td>147.042500</td>\n",
       "      <td>23.264000</td>\n",
       "      <td>30.554000</td>\n",
       "      <td>14.022500</td>\n",
       "    </tr>\n",
       "    <tr>\n",
       "      <td>std</td>\n",
       "      <td>85.854236</td>\n",
       "      <td>14.846809</td>\n",
       "      <td>21.778621</td>\n",
       "      <td>5.217457</td>\n",
       "    </tr>\n",
       "    <tr>\n",
       "      <td>min</td>\n",
       "      <td>0.700000</td>\n",
       "      <td>0.000000</td>\n",
       "      <td>0.300000</td>\n",
       "      <td>1.600000</td>\n",
       "    </tr>\n",
       "    <tr>\n",
       "      <td>25%</td>\n",
       "      <td>74.375000</td>\n",
       "      <td>9.975000</td>\n",
       "      <td>12.750000</td>\n",
       "      <td>10.375000</td>\n",
       "    </tr>\n",
       "    <tr>\n",
       "      <td>50%</td>\n",
       "      <td>149.750000</td>\n",
       "      <td>22.900000</td>\n",
       "      <td>25.750000</td>\n",
       "      <td>12.900000</td>\n",
       "    </tr>\n",
       "    <tr>\n",
       "      <td>75%</td>\n",
       "      <td>218.825000</td>\n",
       "      <td>36.525000</td>\n",
       "      <td>45.100000</td>\n",
       "      <td>17.400000</td>\n",
       "    </tr>\n",
       "    <tr>\n",
       "      <td>max</td>\n",
       "      <td>296.400000</td>\n",
       "      <td>49.600000</td>\n",
       "      <td>114.000000</td>\n",
       "      <td>27.000000</td>\n",
       "    </tr>\n",
       "  </tbody>\n",
       "</table>\n",
       "</div>"
      ],
      "text/plain": [
       "               TV       Radio   Newspaper       Sales\n",
       "count  200.000000  200.000000  200.000000  200.000000\n",
       "mean   147.042500   23.264000   30.554000   14.022500\n",
       "std     85.854236   14.846809   21.778621    5.217457\n",
       "min      0.700000    0.000000    0.300000    1.600000\n",
       "25%     74.375000    9.975000   12.750000   10.375000\n",
       "50%    149.750000   22.900000   25.750000   12.900000\n",
       "75%    218.825000   36.525000   45.100000   17.400000\n",
       "max    296.400000   49.600000  114.000000   27.000000"
      ]
     },
     "execution_count": 7,
     "metadata": {},
     "output_type": "execute_result"
    }
   ],
   "source": [
    "# View the statistical summary of the dataset\n",
    "dataset.describe()"
   ]
  },
  {
   "cell_type": "markdown",
   "metadata": {},
   "source": [
    "## Visualization\n",
    "\n",
    "Using plots to display statisical information is a great way to understand the data. It allows for easy and accurate comparisions. In order to create plots, the library matplotlib will be utilized. Before creating plots, it is recommended to set the figure parameters for better viewing."
   ]
  },
  {
   "cell_type": "code",
   "execution_count": 8,
   "metadata": {},
   "outputs": [],
   "source": [
    "# Set the figure size for better viewing\n",
    "from matplotlib import pyplot\n",
    "pyplot.rcParams['figure.figsize']=(20,7)"
   ]
  },
  {
   "cell_type": "code",
   "execution_count": 9,
   "metadata": {},
   "outputs": [
    {
     "data": {
      "image/png": "[encoded data removed]",
      "text/plain": [
       "<Figure size 432x288 with 4 Axes>"
      ]
     },
     "metadata": {
      "needs_background": "light"
     },
     "output_type": "display_data"
    }
   ],
   "source": [
    "# View Univariate plots by creating box and whisker plots for each feature (column)\n",
    "dataset.plot(kind='box', subplots=True, sharex=False, sharey=False)\n",
    "pyplot.show()"
   ]
  },
  {
   "cell_type": "markdown",
   "metadata": {},
   "source": [
    "One of the most important aspects of the box and whisker plot, is that is allows for identifying any outliers. In the plots above, it can be seen that there are two outliers within the newspaper column. Depending on the dataset at hand, dealing with outliers may be necessary and vital for good analysis. In this case, the outliers will not be removed as it is difficult to determine, by the data provided, whether or not they are significant. This is a smaller dataset, thus with more data, it may be revealed that those two data points are not outliers. Also, note that the box plots do not share the same x and y axis. This is to provide better viewing for the reader."
   ]
  },
  {
   "cell_type": "code",
   "execution_count": 10,
   "metadata": {},
   "outputs": [
    {
     "data": {
      "image/png": "[encoded data removed]",
      "text/plain": [
       "<Figure size 432x288 with 4 Axes>"
      ]
     },
     "metadata": {
      "needs_background": "light"
     },
     "output_type": "display_data"
    }
   ],
   "source": [
    "# Create a histogram for each feature\n",
    "dataset.hist()\n",
    "pyplot.show()"
   ]
  },
  {
   "cell_type": "markdown",
   "metadata": {},
   "source": [
    "Histograms are great because they show the distribution of the data for each variable. Above, it can be seen that the newspaper budget is skewed right, which means that most of the data is represented by lower values. The radio and tv budgets are pretty evenly distributed. While the sales data is closer to being normally distributed (still slightly skewed right). Another type of plot that will show important information is scatterplots, as seen below."
   ]
  },
  {
   "cell_type": "code",
   "execution_count": 11,
   "metadata": {
    "scrolled": true
   },
   "outputs": [
    {
     "data": {
      "image/png": "[encoded data removed]",
      "text/plain": [
       "<Figure size 432x288 with 16 Axes>"
      ]
     },
     "metadata": {
      "needs_background": "light"
     },
     "output_type": "display_data"
    }
   ],
   "source": [
    "# Create a multivariate plot to see interaction between variables\n",
    "from pandas.plotting import scatter_matrix\n",
    "scatter_matrix(dataset)\n",
    "pyplot.show()"
   ]
  },
  {
   "cell_type": "markdown",
   "metadata": {},
   "source": [
    "Since the 'Sales' column (the target variable) is numeric, then some sort of regression model will be needed for making predictions. When dealing with regression models, the relationship between the independent and dependent variables should be examined. Above, it can be seen that some plots ('TV vs Sales' and 'Radio vs Sales') show a linear relationship between the independent and dependent variables. This means that a linear regression model would be a good choice to apply. It should be noted that the plot showing 'Newspaper vs Sales' does not display a linear correlation. However, this is not to rule out newspaper ads completely. Again, this is a smaller dataset. With more data, there is a possibility that a linear relationship between newspaper ads and sales exist. Lastly, upon examination, there is no correlation between the different independent variables. To get a closer look at the independent variables vs dependent variables, the code below could be used."
   ]
  },
  {
   "cell_type": "code",
   "execution_count": 12,
   "metadata": {
    "scrolled": true
   },
   "outputs": [
    {
     "data": {
      "image/png": "[encoded data removed]",
      "text/plain": [
       "<Figure size 864x288 with 3 Axes>"
      ]
     },
     "metadata": {
      "needs_background": "light"
     },
     "output_type": "display_data"
    }
   ],
   "source": [
    "# visualize the relationship between the features and the response using scatterplots\n",
    "import seaborn as sns\n",
    "sns.pairplot(dataset, x_vars=['TV','Radio','Newspaper'], y_vars='Sales', height = 4,aspect=1)\n",
    "pyplot.show()"
   ]
  },
  {
   "cell_type": "markdown",
   "metadata": {},
   "source": [
    "Again, strong linear correlations are key here. Having strong correlations will allow more accurate predictive models. Above, it can be seen that 'TV' and 'Radio' have linear correlations, while 'Newspaper' is more random. A line of best fit can be applied to the scatterplots above, as seen below."
   ]
  },
  {
   "cell_type": "code",
   "execution_count": 13,
   "metadata": {
    "scrolled": true
   },
   "outputs": [
    {
     "data": {
      "image/png": "[encoded data removed]",
      "text/plain": [
       "<Figure size 864x288 with 3 Axes>"
      ]
     },
     "metadata": {
      "needs_background": "light"
     },
     "output_type": "display_data"
    }
   ],
   "source": [
    "sns.pairplot(dataset, x_vars=['TV','Radio','Newspaper'], y_vars='Sales', height=4, aspect=1, kind='reg')\n",
    "pyplot.show()"
   ]
  },
  {
   "cell_type": "markdown",
   "metadata": {},
   "source": [
    "## Model Preparation\n",
    "\n",
    "In this section, the dataset will be reconfigured in order to train and test the data in various models. The first step that will be taken, is to create a subset of the data which contains all of important variables that will be included in the machine learning model. The first feature group will contain the variables 'TV', 'Radio', and 'Newspaper'. Including all three variables first will reveal which variables are statistically significant for predicting sales."
   ]
  },
  {
   "cell_type": "code",
   "execution_count": 14,
   "metadata": {},
   "outputs": [],
   "source": [
    "# Create a feature group. This will be important variables you want the model to consider.\n",
    "feature1 = dataset[['TV','Radio','Newspaper']]"
   ]
  },
  {
   "cell_type": "markdown",
   "metadata": {},
   "source": [
    "Notice above that each desired featured column was stated explicitly. This is only one way to create a feature group. Another popular option is to use a slicing technique. One benefit of using slicing is that more columns can be included on shorter code. In the above case, each column was listed out separately to visually show which columns were going to be included. "
   ]
  },
  {
   "cell_type": "code",
   "execution_count": 15,
   "metadata": {},
   "outputs": [
    {
     "data": {
      "text/html": [
       "<div>\n",
       "<style scoped>\n",
       "    .dataframe tbody tr th:only-of-type {\n",
       "        vertical-align: middle;\n",
       "    }\n",
       "\n",
       "    .dataframe tbody tr th {\n",
       "        vertical-align: top;\n",
       "    }\n",
       "\n",
       "    .dataframe thead th {\n",
       "        text-align: right;\n",
       "    }\n",
       "</style>\n",
       "<table border=\"1\" class=\"dataframe\">\n",
       "  <thead>\n",
       "    <tr style=\"text-align: right;\">\n",
       "      <th></th>\n",
       "      <th>TV</th>\n",
       "      <th>Radio</th>\n",
       "      <th>Newspaper</th>\n",
       "    </tr>\n",
       "  </thead>\n",
       "  <tbody>\n",
       "    <tr>\n",
       "      <td>1</td>\n",
       "      <td>230.1</td>\n",
       "      <td>37.8</td>\n",
       "      <td>69.2</td>\n",
       "    </tr>\n",
       "    <tr>\n",
       "      <td>2</td>\n",
       "      <td>44.5</td>\n",
       "      <td>39.3</td>\n",
       "      <td>45.1</td>\n",
       "    </tr>\n",
       "    <tr>\n",
       "      <td>3</td>\n",
       "      <td>17.2</td>\n",
       "      <td>45.9</td>\n",
       "      <td>69.3</td>\n",
       "    </tr>\n",
       "    <tr>\n",
       "      <td>4</td>\n",
       "      <td>151.5</td>\n",
       "      <td>41.3</td>\n",
       "      <td>58.5</td>\n",
       "    </tr>\n",
       "    <tr>\n",
       "      <td>5</td>\n",
       "      <td>180.8</td>\n",
       "      <td>10.8</td>\n",
       "      <td>58.4</td>\n",
       "    </tr>\n",
       "  </tbody>\n",
       "</table>\n",
       "</div>"
      ],
      "text/plain": [
       "      TV  Radio  Newspaper\n",
       "1  230.1   37.8       69.2\n",
       "2   44.5   39.3       45.1\n",
       "3   17.2   45.9       69.3\n",
       "4  151.5   41.3       58.5\n",
       "5  180.8   10.8       58.4"
      ]
     },
     "execution_count": 15,
     "metadata": {},
     "output_type": "execute_result"
    }
   ],
   "source": [
    "#View the feature object\n",
    "feature1.head()"
   ]
  },
  {
   "cell_type": "markdown",
   "metadata": {},
   "source": [
    "Again, it is a good idea to make sure that the new dataframe was create correctly. Using the head( ) function allows for a quick viewing of the dataset. Also, if a slicing technique was used in the previous step, then using the head( ) function would show all the columns included in the new dataframe."
   ]
  },
  {
   "cell_type": "code",
   "execution_count": 16,
   "metadata": {},
   "outputs": [
    {
     "data": {
      "text/plain": [
       "(200, 3)"
      ]
     },
     "execution_count": 16,
     "metadata": {},
     "output_type": "execute_result"
    }
   ],
   "source": [
    "#Verify if all the observations have been captured in the feature object\n",
    "feature1.shape"
   ]
  },
  {
   "cell_type": "markdown",
   "metadata": {},
   "source": [
    "Just to make sure that all the data points transferred over to the new dataframe, the shape feature was used. The result shows that the features dataframe contains 200 observations and 3 variables, which is what is expected.\n",
    "\n",
    "Next, a target dataframe will be created. This new dataframe will contain all of the sales data from the original dataset. All of the previous steps used will be repeated below to ensure that the target dataframe is set up correctly."
   ]
  },
  {
   "cell_type": "code",
   "execution_count": 17,
   "metadata": {},
   "outputs": [
    {
     "data": {
      "text/html": [
       "<div>\n",
       "<style scoped>\n",
       "    .dataframe tbody tr th:only-of-type {\n",
       "        vertical-align: middle;\n",
       "    }\n",
       "\n",
       "    .dataframe tbody tr th {\n",
       "        vertical-align: top;\n",
       "    }\n",
       "\n",
       "    .dataframe thead th {\n",
       "        text-align: right;\n",
       "    }\n",
       "</style>\n",
       "<table border=\"1\" class=\"dataframe\">\n",
       "  <thead>\n",
       "    <tr style=\"text-align: right;\">\n",
       "      <th></th>\n",
       "      <th>Sales</th>\n",
       "    </tr>\n",
       "  </thead>\n",
       "  <tbody>\n",
       "    <tr>\n",
       "      <td>1</td>\n",
       "      <td>22.1</td>\n",
       "    </tr>\n",
       "    <tr>\n",
       "      <td>2</td>\n",
       "      <td>10.4</td>\n",
       "    </tr>\n",
       "    <tr>\n",
       "      <td>3</td>\n",
       "      <td>9.3</td>\n",
       "    </tr>\n",
       "    <tr>\n",
       "      <td>4</td>\n",
       "      <td>18.5</td>\n",
       "    </tr>\n",
       "    <tr>\n",
       "      <td>5</td>\n",
       "      <td>12.9</td>\n",
       "    </tr>\n",
       "  </tbody>\n",
       "</table>\n",
       "</div>"
      ],
      "text/plain": [
       "   Sales\n",
       "1   22.1\n",
       "2   10.4\n",
       "3    9.3\n",
       "4   18.5\n",
       "5   12.9"
      ]
     },
     "execution_count": 17,
     "metadata": {},
     "output_type": "execute_result"
    }
   ],
   "source": [
    "#Create a target object (Hint: use the sales column as it is the response of the dataset)\n",
    "target = dataset[['Sales']]\n",
    "target.head()"
   ]
  },
  {
   "cell_type": "code",
   "execution_count": 18,
   "metadata": {},
   "outputs": [
    {
     "data": {
      "text/plain": [
       "(200, 1)"
      ]
     },
     "execution_count": 18,
     "metadata": {},
     "output_type": "execute_result"
    }
   ],
   "source": [
    "#Verify if all the observations have been captured in the target object\n",
    "target.shape"
   ]
  },
  {
   "cell_type": "markdown",
   "metadata": {},
   "source": [
    "Now it is time to split the data into a training and testing group. The models will be trained and evaluated with the training data. Then once a model is decided on, the chosen model will use the testing data to make predictions and will then be evaluated on those predictions. It is recommended to split the data in either a 80-20 split or a 75-25 split, depending on the size of the data. For this project, the data will be split 80 percent for training and 20 percent for testing the data. This decision was made based on the size of the data provided. Since this is a small dataset, a higher percentage will be alloted to training in order to produce a more reflective model."
   ]
  },
  {
   "cell_type": "code",
   "execution_count": 19,
   "metadata": {},
   "outputs": [],
   "source": [
    "from sklearn.model_selection import train_test_split\n",
    "#Split the dataset (by default, 75% is the training data and 25% is the testing data)\n",
    "x_train, x_test, y_train, y_test = train_test_split(feature1, target, test_size=0.20, random_state=1)"
   ]
  },
  {
   "cell_type": "markdown",
   "metadata": {},
   "source": [
    "After splitting the data, make sure that the datasets were split correctly by using the shape( ) function. "
   ]
  },
  {
   "cell_type": "code",
   "execution_count": 20,
   "metadata": {},
   "outputs": [
    {
     "name": "stdout",
     "output_type": "stream",
     "text": [
      "(160, 3)\n",
      "(160, 1)\n",
      "(40, 3)\n",
      "(40, 1)\n"
     ]
    }
   ],
   "source": [
    "#Verify if the training and testing datasets are split correctly (Hint: use the shape() method)\n",
    "print (x_train.shape)\n",
    "print (y_train.shape)\n",
    "print (x_test.shape)\n",
    "print (y_test.shape)"
   ]
  },
  {
   "cell_type": "markdown",
   "metadata": {},
   "source": [
    "Above, it can be seen that all the datasets were appropriately split according to the specified percentages. However, there is one small detail to notice. In order for the models to work properly, the y_train dataset needs to be converted from (150,1) to (150, ). This can be easily accomplished using ravel( ). "
   ]
  },
  {
   "cell_type": "code",
   "execution_count": 21,
   "metadata": {},
   "outputs": [],
   "source": [
    "# Use ravel to convert y_train from (n,1) to (n, )\n",
    "import numpy as np\n",
    "y_train = y_train.values.ravel()"
   ]
  },
  {
   "cell_type": "code",
   "execution_count": 22,
   "metadata": {},
   "outputs": [
    {
     "name": "stdout",
     "output_type": "stream",
     "text": [
      "(160,)\n"
     ]
    }
   ],
   "source": [
    "print (y_train.shape)"
   ]
  },
  {
   "cell_type": "markdown",
   "metadata": {},
   "source": [
    "Now, all of the data is prepared and ready for model training, evaluation, and testing."
   ]
  },
  {
   "cell_type": "markdown",
   "metadata": {},
   "source": [
    "## Model Building\n",
    "\n",
    "There are several factors to consider when trying to determine which type of model to create. Now since the target variable (sales budget) is a numeric type, some type of regression line needs to be implemented. By viewing the graphs earlier, it was noted that some of the independent variables showed a linear relationship when plotted against the sales budget data. Linear relationships indicate that a linear regression model might be the best fit for the data. Thus, a linear regression model will be created and tested."
   ]
  },
  {
   "cell_type": "markdown",
   "metadata": {},
   "source": [
    "First, the model will be created using sklearn. The linear model will then be trained with the training dataset created earlier by using k-fold cross validation. In this case, the training dataset is shuffled, split into 10 parts, trained with 9 of the parts, and tested with 1 part. Once the model is tested, the scores are recorded and the process starts over. Each data point is assigned one group and is given the opportunity to be in the hold out group (test group) one time and in the training group 9 times. Upon completion of this project, the R<sup>2</sup> metric will be returned to show how well the model fits the data."
   ]
  },
  {
   "cell_type": "code",
   "execution_count": 23,
   "metadata": {},
   "outputs": [
    {
     "name": "stdout",
     "output_type": "stream",
     "text": [
      "LR1: 0.884 (0.053)\n"
     ]
    }
   ],
   "source": [
    "from sklearn.linear_model import LinearRegression\n",
    "from sklearn import model_selection\n",
    "from sklearn.model_selection import cross_val_score\n",
    "\n",
    "LR1 = LinearRegression()\n",
    "kfold = model_selection.KFold(n_splits=10, random_state=314)\n",
    "cv_results = cross_val_score(LR1, x_train, y_train, cv=kfold, scoring='r2')\n",
    "print('%s: %.3f (%.3f)' % ('LR1', cv_results.mean(), cv_results.std()))"
   ]
  },
  {
   "cell_type": "markdown",
   "metadata": {},
   "source": [
    "The R<sup>2</sup> value of the model is 0.884 with a standard deviation of 0.053. While this result is not necessarily bad, there is still much more to tell from the data. But before analyzing this model any further, there should be an understanding of what this model is and what it looks like. Going back to middle school/high school math, the first equation most people learn to plot is the equation of a straight line: \n",
    "\n",
    "<br>\n",
    "\\[y = mx + b\\]\n",
    "<br>\n",
    "\n",
    "where y is the dependent variable, m is the slope, x is the independent variable, and b is the y-intercept. The above equation works great if there is one input variable and one output variable. However, when dealing with multiple input variables and one output variable, a slightly different equation needs to be implemented, as shown below: \n",
    "\n",
    "<br>\n",
    "\\[y = \\beta_0 + \\beta_1x_1 + \\beta_2x_2 + \\dotsb + \\beta_nx_n\\]\n",
    "<br>\n",
    "    \n",
    "where y is the predicted value, $\\beta_0$ is the y-intercept, $(\\beta_1,\\beta_2,\\dotsc,\\beta_n)$ are the regression coefficients, and $x_1,x_2,\\dotsc,x_n$ are the independent variables. In order to derive an equation for the regression model created earlier, the regression coefficients need to be found. Luckily this can be revealed easily by just printing the coefficients results."
   ]
  },
  {
   "cell_type": "code",
   "execution_count": 24,
   "metadata": {},
   "outputs": [
    {
     "name": "stdout",
     "output_type": "stream",
     "text": [
      "The y-intercept of the linear regression model is 2.9079470208164295\n",
      "The TV coefficient is 0.04684310317699042\n",
      "The Radio coefficient is 0.17854434380887624\n",
      "The Newspaper coefficient is 0.0025861860939889944\n"
     ]
    }
   ],
   "source": [
    "#Print the intercept and coefficients \n",
    "LR1.fit(x_train,y_train)\n",
    "print('The y-intercept of the linear regression model is',LR1.intercept_)\n",
    "print('The TV coefficient is',LR1.coef_[0])\n",
    "print('The Radio coefficient is',LR1.coef_[1])\n",
    "print('The Newspaper coefficient is',LR1.coef_[2])"
   ]
  },
  {
   "cell_type": "markdown",
   "metadata": {},
   "source": [
    "\n",
    "\n",
    "Based on the variables supplied for the model, it was found that the regression coefficients for 'TV', 'Radio', and 'Newspaper' were 0.047, 0.179, and 0.003, respectively. By applying the results to the equation for a multi variable regression line, the following equation can be formulated:\n",
    "\n",
    "<br>\n",
    "\\[sales = 2.908 + (0.047 \\times TV) + (0.179 \\times Radio) + (0.003 \\times Newspaper)\\]\n",
    "<br>"
   ]
  },
  {
   "cell_type": "markdown",
   "metadata": {},
   "source": [
    "So for example, if the first row of data points from the original dataframe were inputed into the equation above manually, then the sales amount should come out to about 22.1. \n",
    "\n",
    "<br>\n",
    "\\[sales = 2.908 + (0.047 \\times 230.1) + (0.179 \\times 37.8) + (0.003 \\times 69.2)\\]\n",
    "<br>\n",
    "\n",
    "<br>\n",
    "\\[sales = 20.6965\\]\n",
    "<br>\n",
    "\n",
    "This can be checked by typing in the equation into python, as shown below."
   ]
  },
  {
   "cell_type": "code",
   "execution_count": 25,
   "metadata": {
    "scrolled": true
   },
   "outputs": [
    {
     "name": "stdout",
     "output_type": "stream",
     "text": [
      "20.6965\n"
     ]
    }
   ],
   "source": [
    "print(2.908+(0.047*230.1)+(0.179*37.8)+(0.003*69.2))"
   ]
  },
  {
   "cell_type": "markdown",
   "metadata": {},
   "source": [
    "Now, check to see if this matches what the model predicts. Again, the first row of data points will be used. "
   ]
  },
  {
   "cell_type": "code",
   "execution_count": 26,
   "metadata": {},
   "outputs": [
    {
     "data": {
      "text/plain": [
       "array([20.61448534])"
      ]
     },
     "execution_count": 26,
     "metadata": {},
     "output_type": "execute_result"
    }
   ],
   "source": [
    "example = [[230.1, 37.8, 69.2]]\n",
    "LR1.predict(example)"
   ]
  },
  {
   "cell_type": "markdown",
   "metadata": {},
   "source": [
    "The results are fairly close. The difference can be attributed to rounding of the regression coefficients. Note that the correct sales value would have been 22.1, meaning that the working model is not perfect and could potentially be improved. The rest of the testing dataset will be predicted based on the values contained in the x_test group. "
   ]
  },
  {
   "cell_type": "code",
   "execution_count": 27,
   "metadata": {},
   "outputs": [
    {
     "data": {
      "text/plain": [
       "array([21.73577184, 16.45693776,  7.65993185, 17.89202679, 18.67730671,\n",
       "       23.86271904, 16.33623628, 13.45649226,  9.177296  , 17.36056228,\n",
       "       14.4677995 ,  9.85697601, 17.26057027, 16.71866935, 15.09530285,\n",
       "       15.58923732, 12.45188167, 17.27925151, 11.0944114 , 18.06889853,\n",
       "        9.33433055, 12.91345761,  8.7842804 , 10.46670654, 11.40303174,\n",
       "       15.03104665,  9.78479388, 19.46028647, 18.22954934, 17.1958903 ,\n",
       "       21.60304218, 14.71901407, 16.29205532, 12.36432281, 19.98831261,\n",
       "       15.37556411, 13.96678297, 10.06809496, 20.97197274,  7.45877832])"
      ]
     },
     "execution_count": 27,
     "metadata": {},
     "output_type": "execute_result"
    }
   ],
   "source": [
    "#Predict the outcome for the testing dataset\n",
    "y_pred = LR1.predict(x_test)\n",
    "y_pred"
   ]
  },
  {
   "cell_type": "markdown",
   "metadata": {},
   "source": [
    "To score how well the linear regression model was able to predict the actual sales data based on the input of the independent variables, the square root mean error will be utilized. The square root mean error is a metric that evaluates a model's accuracy in its predictions. Essentially, this metric will reveal how concentrated the data is around the line of best fit."
   ]
  },
  {
   "cell_type": "code",
   "execution_count": 28,
   "metadata": {},
   "outputs": [
    {
     "name": "stdout",
     "output_type": "stream",
     "text": [
      "1.4113417558581578\n"
     ]
    }
   ],
   "source": [
    "import numpy as np\n",
    "from sklearn import metrics\n",
    "\n",
    "#Calculate the RMSE\n",
    "print (np.sqrt(metrics.mean_squared_error(y_test,y_pred)))"
   ]
  },
  {
   "cell_type": "markdown",
   "metadata": {},
   "source": [
    "As can be seen above, the RMSE value is about 1.411. When it comes to the RMSE value, the lower the value the better. Although it will not be achieved in a real world dataset, a RMSE value of 0 would indicate a perfect fit. A RMSE value of 1.411 could be acceptable but first, more statistical evaluations should be examined."
   ]
  },
  {
   "cell_type": "code",
   "execution_count": 29,
   "metadata": {},
   "outputs": [
    {
     "data": {
      "text/plain": [
       "Intercept    2.938889\n",
       "TV           0.045765\n",
       "Radio        0.188530\n",
       "Newspaper   -0.001037\n",
       "dtype: float64"
      ]
     },
     "execution_count": 29,
     "metadata": {},
     "output_type": "execute_result"
    }
   ],
   "source": [
    "import statsmodels.formula.api as smf\n",
    "\n",
    "### STATSMODELS ###\n",
    "\n",
    "# create a fitted model with all three features\n",
    "SM1 = smf.ols(formula='Sales ~ TV + Radio + Newspaper', data=dataset).fit()\n",
    "\n",
    "# print the coefficients\n",
    "SM1.params"
   ]
  },
  {
   "cell_type": "markdown",
   "metadata": {},
   "source": [
    "First, notice that the coefficients are different. This is okay because in this case, the point of interest is in the statistical summary of the model. More specifically, the p-test is the statistic of interest. It will identify any relevant or nonrelevant variables. From the graphs created earlier, it was seen that the 'Newspaper' variable did not show a correlation when plotted against 'Sales'. Thus, it may not be a good variable to use in the linear regression model. Below, statsmodel is used to display several statiscal measures, including the p-test."
   ]
  },
  {
   "cell_type": "code",
   "execution_count": 30,
   "metadata": {},
   "outputs": [
    {
     "data": {
      "text/html": [
       "<table class=\"simpletable\">\n",
       "<caption>OLS Regression Results</caption>\n",
       "<tr>\n",
       "  <th>Dep. Variable:</th>          <td>Sales</td>      <th>  R-squared:         </th> <td>   0.897</td>\n",
       "</tr>\n",
       "<tr>\n",
       "  <th>Model:</th>                   <td>OLS</td>       <th>  Adj. R-squared:    </th> <td>   0.896</td>\n",
       "</tr>\n",
       "<tr>\n",
       "  <th>Method:</th>             <td>Least Squares</td>  <th>  F-statistic:       </th> <td>   570.3</td>\n",
       "</tr>\n",
       "<tr>\n",
       "  <th>Date:</th>             <td>Sun, 02 Feb 2020</td> <th>  Prob (F-statistic):</th> <td>1.58e-96</td>\n",
       "</tr>\n",
       "<tr>\n",
       "  <th>Time:</th>                 <td>14:37:37</td>     <th>  Log-Likelihood:    </th> <td> -386.18</td>\n",
       "</tr>\n",
       "<tr>\n",
       "  <th>No. Observations:</th>      <td>   200</td>      <th>  AIC:               </th> <td>   780.4</td>\n",
       "</tr>\n",
       "<tr>\n",
       "  <th>Df Residuals:</th>          <td>   196</td>      <th>  BIC:               </th> <td>   793.6</td>\n",
       "</tr>\n",
       "<tr>\n",
       "  <th>Df Model:</th>              <td>     3</td>      <th>                     </th>     <td> </td>   \n",
       "</tr>\n",
       "<tr>\n",
       "  <th>Covariance Type:</th>      <td>nonrobust</td>    <th>                     </th>     <td> </td>   \n",
       "</tr>\n",
       "</table>\n",
       "<table class=\"simpletable\">\n",
       "<tr>\n",
       "      <td></td>         <th>coef</th>     <th>std err</th>      <th>t</th>      <th>P>|t|</th>  <th>[0.025</th>    <th>0.975]</th>  \n",
       "</tr>\n",
       "<tr>\n",
       "  <th>Intercept</th> <td>    2.9389</td> <td>    0.312</td> <td>    9.422</td> <td> 0.000</td> <td>    2.324</td> <td>    3.554</td>\n",
       "</tr>\n",
       "<tr>\n",
       "  <th>TV</th>        <td>    0.0458</td> <td>    0.001</td> <td>   32.809</td> <td> 0.000</td> <td>    0.043</td> <td>    0.049</td>\n",
       "</tr>\n",
       "<tr>\n",
       "  <th>Radio</th>     <td>    0.1885</td> <td>    0.009</td> <td>   21.893</td> <td> 0.000</td> <td>    0.172</td> <td>    0.206</td>\n",
       "</tr>\n",
       "<tr>\n",
       "  <th>Newspaper</th> <td>   -0.0010</td> <td>    0.006</td> <td>   -0.177</td> <td> 0.860</td> <td>   -0.013</td> <td>    0.011</td>\n",
       "</tr>\n",
       "</table>\n",
       "<table class=\"simpletable\">\n",
       "<tr>\n",
       "  <th>Omnibus:</th>       <td>60.414</td> <th>  Durbin-Watson:     </th> <td>   2.084</td>\n",
       "</tr>\n",
       "<tr>\n",
       "  <th>Prob(Omnibus):</th> <td> 0.000</td> <th>  Jarque-Bera (JB):  </th> <td> 151.241</td>\n",
       "</tr>\n",
       "<tr>\n",
       "  <th>Skew:</th>          <td>-1.327</td> <th>  Prob(JB):          </th> <td>1.44e-33</td>\n",
       "</tr>\n",
       "<tr>\n",
       "  <th>Kurtosis:</th>      <td> 6.332</td> <th>  Cond. No.          </th> <td>    454.</td>\n",
       "</tr>\n",
       "</table><br/><br/>Warnings:<br/>[1] Standard Errors assume that the covariance matrix of the errors is correctly specified."
      ],
      "text/plain": [
       "<class 'statsmodels.iolib.summary.Summary'>\n",
       "\"\"\"\n",
       "                            OLS Regression Results                            \n",
       "==============================================================================\n",
       "Dep. Variable:                  Sales   R-squared:                       0.897\n",
       "Model:                            OLS   Adj. R-squared:                  0.896\n",
       "Method:                 Least Squares   F-statistic:                     570.3\n",
       "Date:                Sun, 02 Feb 2020   Prob (F-statistic):           1.58e-96\n",
       "Time:                        14:37:37   Log-Likelihood:                -386.18\n",
       "No. Observations:                 200   AIC:                             780.4\n",
       "Df Residuals:                     196   BIC:                             793.6\n",
       "Df Model:                           3                                         \n",
       "Covariance Type:            nonrobust                                         \n",
       "==============================================================================\n",
       "                 coef    std err          t      P>|t|      [0.025      0.975]\n",
       "------------------------------------------------------------------------------\n",
       "Intercept      2.9389      0.312      9.422      0.000       2.324       3.554\n",
       "TV             0.0458      0.001     32.809      0.000       0.043       0.049\n",
       "Radio          0.1885      0.009     21.893      0.000       0.172       0.206\n",
       "Newspaper     -0.0010      0.006     -0.177      0.860      -0.013       0.011\n",
       "==============================================================================\n",
       "Omnibus:                       60.414   Durbin-Watson:                   2.084\n",
       "Prob(Omnibus):                  0.000   Jarque-Bera (JB):              151.241\n",
       "Skew:                          -1.327   Prob(JB):                     1.44e-33\n",
       "Kurtosis:                       6.332   Cond. No.                         454.\n",
       "==============================================================================\n",
       "\n",
       "Warnings:\n",
       "[1] Standard Errors assume that the covariance matrix of the errors is correctly specified.\n",
       "\"\"\""
      ]
     },
     "execution_count": 30,
     "metadata": {},
     "output_type": "execute_result"
    }
   ],
   "source": [
    "### STATSMODELS ###\n",
    "\n",
    "# print a summary of the fitted model\n",
    "SM1.summary()\n"
   ]
  },
  {
   "cell_type": "markdown",
   "metadata": {},
   "source": [
    "Looking at the p-test results, the newspaper variable is revealed to be much greater that 0.05. This means that the newspaper variable  has a coefficient that is too close to zero and is not contributing much to the regression model. To see if the model would be perform better without the 'Newspaper' variable as a feature, a new model is created in order to compare the models' performance."
   ]
  },
  {
   "cell_type": "code",
   "execution_count": 31,
   "metadata": {},
   "outputs": [
    {
     "name": "stdout",
     "output_type": "stream",
     "text": [
      "LR2: 0.886 (0.053)\n"
     ]
    }
   ],
   "source": [
    "feature2 = dataset[['TV', 'Radio']]\n",
    "target2 = dataset[['Sales']]\n",
    "x_train2, x_test2, y_train2, y_test2 = train_test_split(feature2, target, test_size=0.20, random_state=1)\n",
    "y_train2 = y_train2.values.ravel()\n",
    "LR2 = LinearRegression()\n",
    "kfold2 = model_selection.KFold(n_splits=10, random_state=314)\n",
    "cv_results2 = cross_val_score(LR2, x_train2, y_train2, cv=kfold2, scoring='r2')\n",
    "print('%s: %.3f (%.3f)' % ('LR2', cv_results2.mean(), cv_results2.std()))"
   ]
  },
  {
   "cell_type": "markdown",
   "metadata": {},
   "source": [
    "After removing the 'Newspaper' variable from the features list, the R<sup>2</sup> value increased slightly (by 0.002) and the standard deviation stayed the same. A large change was not expected since the 'Newspaper' variable was not contributing much. Overall, this R<sup>2</sup> value indicates that the line of best fit is reasonable at fitting the data."
   ]
  },
  {
   "cell_type": "code",
   "execution_count": 32,
   "metadata": {},
   "outputs": [
    {
     "name": "stdout",
     "output_type": "stream",
     "text": [
      "The y-intercept of the linear regression model is 2.9475150360289994\n",
      "The TV coefficient is 0.046869974980173444\n",
      "The Radio coefficient is 0.18000650373005056\n"
     ]
    }
   ],
   "source": [
    "#Print the intercept and coefficients \n",
    "LR2.fit(x_train2,y_train2)\n",
    "print('The y-intercept of the linear regression model is',LR2.intercept_)\n",
    "print('The TV coefficient is',LR2.coef_[0])\n",
    "print('The Radio coefficient is',LR2.coef_[1])"
   ]
  },
  {
   "cell_type": "markdown",
   "metadata": {},
   "source": [
    "The y-intercept and coefficients for the independent variables, within the new model, experienced only a slight change. A direct comparison can be seen below.\n",
    "\n",
    "|Variable|Old Coefficient|New Coefficient|\n",
    "|:---:|:---:|:---:|\n",
    "|y-Intercept|2.9079470|2.9475150|\n",
    "|TV|0.0468431|0.0468699|\n",
    "|Radio|0.1785443|0.1800065|"
   ]
  },
  {
   "cell_type": "markdown",
   "metadata": {},
   "source": [
    "Once again, a significant change was not expected since the 'Newspaper' variable was not contributing much to the regression model. However, the slight change in coefficients hopefully improved the accuracy of the model. To see if the small changes improved the model, the new model's predictions will be compared to the old model's predictions."
   ]
  },
  {
   "cell_type": "code",
   "execution_count": 33,
   "metadata": {},
   "outputs": [
    {
     "data": {
      "text/plain": [
       "array([21.75602835, 16.45283   ,  7.68498075, 17.89854771, 18.67725322,\n",
       "       23.8001131 , 16.28958747, 13.36567675,  9.13663933, 17.29146113,\n",
       "       14.41976185,  9.88105063, 17.33065475, 16.69814917, 15.00680872,\n",
       "       15.48131088, 12.43241041, 17.31064343, 11.16764004, 18.13321062,\n",
       "        9.38132296, 12.71353738,  8.75011855, 10.5014414 , 11.37124838,\n",
       "       15.03593604,  9.77378461, 19.48694106, 18.32570002, 17.20710464,\n",
       "       21.66189194, 14.55054628, 16.37218182, 12.32883551, 20.02621323,\n",
       "       15.39390999, 13.98341958, 10.03852687, 21.01121113,  7.48429727])"
      ]
     },
     "execution_count": 33,
     "metadata": {},
     "output_type": "execute_result"
    }
   ],
   "source": [
    "y_pred2 = LR2.predict(x_test2)\n",
    "y_pred2"
   ]
  },
  {
   "cell_type": "code",
   "execution_count": 34,
   "metadata": {
    "scrolled": false
   },
   "outputs": [
    {
     "data": {
      "text/html": [
       "<div>\n",
       "<style scoped>\n",
       "    .dataframe tbody tr th:only-of-type {\n",
       "        vertical-align: middle;\n",
       "    }\n",
       "\n",
       "    .dataframe tbody tr th {\n",
       "        vertical-align: top;\n",
       "    }\n",
       "\n",
       "    .dataframe thead th {\n",
       "        text-align: right;\n",
       "    }\n",
       "</style>\n",
       "<table border=\"1\" class=\"dataframe\">\n",
       "  <thead>\n",
       "    <tr style=\"text-align: right;\">\n",
       "      <th></th>\n",
       "      <th>Actual</th>\n",
       "      <th>Old Predictions</th>\n",
       "      <th>New Predictions</th>\n",
       "    </tr>\n",
       "  </thead>\n",
       "  <tbody>\n",
       "    <tr>\n",
       "      <td>0</td>\n",
       "      <td>23.8</td>\n",
       "      <td>21.735772</td>\n",
       "      <td>21.756028</td>\n",
       "    </tr>\n",
       "    <tr>\n",
       "      <td>1</td>\n",
       "      <td>16.6</td>\n",
       "      <td>16.456938</td>\n",
       "      <td>16.452830</td>\n",
       "    </tr>\n",
       "    <tr>\n",
       "      <td>2</td>\n",
       "      <td>9.5</td>\n",
       "      <td>7.659932</td>\n",
       "      <td>7.684981</td>\n",
       "    </tr>\n",
       "    <tr>\n",
       "      <td>3</td>\n",
       "      <td>14.8</td>\n",
       "      <td>17.892027</td>\n",
       "      <td>17.898548</td>\n",
       "    </tr>\n",
       "    <tr>\n",
       "      <td>4</td>\n",
       "      <td>17.6</td>\n",
       "      <td>18.677307</td>\n",
       "      <td>18.677253</td>\n",
       "    </tr>\n",
       "    <tr>\n",
       "      <td>5</td>\n",
       "      <td>25.5</td>\n",
       "      <td>23.862719</td>\n",
       "      <td>23.800113</td>\n",
       "    </tr>\n",
       "    <tr>\n",
       "      <td>6</td>\n",
       "      <td>16.9</td>\n",
       "      <td>16.336236</td>\n",
       "      <td>16.289587</td>\n",
       "    </tr>\n",
       "    <tr>\n",
       "      <td>7</td>\n",
       "      <td>12.9</td>\n",
       "      <td>13.456492</td>\n",
       "      <td>13.365677</td>\n",
       "    </tr>\n",
       "    <tr>\n",
       "      <td>8</td>\n",
       "      <td>10.5</td>\n",
       "      <td>9.177296</td>\n",
       "      <td>9.136639</td>\n",
       "    </tr>\n",
       "    <tr>\n",
       "      <td>9</td>\n",
       "      <td>17.1</td>\n",
       "      <td>17.360562</td>\n",
       "      <td>17.291461</td>\n",
       "    </tr>\n",
       "    <tr>\n",
       "      <td>10</td>\n",
       "      <td>14.5</td>\n",
       "      <td>14.467799</td>\n",
       "      <td>14.419762</td>\n",
       "    </tr>\n",
       "    <tr>\n",
       "      <td>11</td>\n",
       "      <td>11.3</td>\n",
       "      <td>9.856976</td>\n",
       "      <td>9.881051</td>\n",
       "    </tr>\n",
       "    <tr>\n",
       "      <td>12</td>\n",
       "      <td>17.4</td>\n",
       "      <td>17.260570</td>\n",
       "      <td>17.330655</td>\n",
       "    </tr>\n",
       "    <tr>\n",
       "      <td>13</td>\n",
       "      <td>16.7</td>\n",
       "      <td>16.718669</td>\n",
       "      <td>16.698149</td>\n",
       "    </tr>\n",
       "    <tr>\n",
       "      <td>14</td>\n",
       "      <td>13.4</td>\n",
       "      <td>15.095303</td>\n",
       "      <td>15.006809</td>\n",
       "    </tr>\n",
       "    <tr>\n",
       "      <td>15</td>\n",
       "      <td>15.9</td>\n",
       "      <td>15.589237</td>\n",
       "      <td>15.481311</td>\n",
       "    </tr>\n",
       "    <tr>\n",
       "      <td>16</td>\n",
       "      <td>12.9</td>\n",
       "      <td>12.451882</td>\n",
       "      <td>12.432410</td>\n",
       "    </tr>\n",
       "    <tr>\n",
       "      <td>17</td>\n",
       "      <td>12.8</td>\n",
       "      <td>17.279252</td>\n",
       "      <td>17.310643</td>\n",
       "    </tr>\n",
       "    <tr>\n",
       "      <td>18</td>\n",
       "      <td>9.5</td>\n",
       "      <td>11.094411</td>\n",
       "      <td>11.167640</td>\n",
       "    </tr>\n",
       "    <tr>\n",
       "      <td>19</td>\n",
       "      <td>18.4</td>\n",
       "      <td>18.068899</td>\n",
       "      <td>18.133211</td>\n",
       "    </tr>\n",
       "    <tr>\n",
       "      <td>20</td>\n",
       "      <td>10.7</td>\n",
       "      <td>9.334331</td>\n",
       "      <td>9.381323</td>\n",
       "    </tr>\n",
       "    <tr>\n",
       "      <td>21</td>\n",
       "      <td>12.5</td>\n",
       "      <td>12.913458</td>\n",
       "      <td>12.713537</td>\n",
       "    </tr>\n",
       "    <tr>\n",
       "      <td>22</td>\n",
       "      <td>8.5</td>\n",
       "      <td>8.784280</td>\n",
       "      <td>8.750119</td>\n",
       "    </tr>\n",
       "    <tr>\n",
       "      <td>23</td>\n",
       "      <td>11.5</td>\n",
       "      <td>10.466707</td>\n",
       "      <td>10.501441</td>\n",
       "    </tr>\n",
       "    <tr>\n",
       "      <td>24</td>\n",
       "      <td>11.9</td>\n",
       "      <td>11.403032</td>\n",
       "      <td>11.371248</td>\n",
       "    </tr>\n",
       "    <tr>\n",
       "      <td>25</td>\n",
       "      <td>14.9</td>\n",
       "      <td>15.031047</td>\n",
       "      <td>15.035936</td>\n",
       "    </tr>\n",
       "    <tr>\n",
       "      <td>26</td>\n",
       "      <td>10.1</td>\n",
       "      <td>9.784794</td>\n",
       "      <td>9.773785</td>\n",
       "    </tr>\n",
       "    <tr>\n",
       "      <td>27</td>\n",
       "      <td>18.9</td>\n",
       "      <td>19.460286</td>\n",
       "      <td>19.486941</td>\n",
       "    </tr>\n",
       "    <tr>\n",
       "      <td>28</td>\n",
       "      <td>19.6</td>\n",
       "      <td>18.229549</td>\n",
       "      <td>18.325700</td>\n",
       "    </tr>\n",
       "    <tr>\n",
       "      <td>29</td>\n",
       "      <td>15.9</td>\n",
       "      <td>17.195890</td>\n",
       "      <td>17.207105</td>\n",
       "    </tr>\n",
       "    <tr>\n",
       "      <td>30</td>\n",
       "      <td>23.2</td>\n",
       "      <td>21.603042</td>\n",
       "      <td>21.661892</td>\n",
       "    </tr>\n",
       "    <tr>\n",
       "      <td>31</td>\n",
       "      <td>11.9</td>\n",
       "      <td>14.719014</td>\n",
       "      <td>14.550546</td>\n",
       "    </tr>\n",
       "    <tr>\n",
       "      <td>32</td>\n",
       "      <td>17.3</td>\n",
       "      <td>16.292055</td>\n",
       "      <td>16.372182</td>\n",
       "    </tr>\n",
       "    <tr>\n",
       "      <td>33</td>\n",
       "      <td>11.7</td>\n",
       "      <td>12.364323</td>\n",
       "      <td>12.328836</td>\n",
       "    </tr>\n",
       "    <tr>\n",
       "      <td>34</td>\n",
       "      <td>20.2</td>\n",
       "      <td>19.988313</td>\n",
       "      <td>20.026213</td>\n",
       "    </tr>\n",
       "    <tr>\n",
       "      <td>35</td>\n",
       "      <td>15.5</td>\n",
       "      <td>15.375564</td>\n",
       "      <td>15.393910</td>\n",
       "    </tr>\n",
       "    <tr>\n",
       "      <td>36</td>\n",
       "      <td>11.5</td>\n",
       "      <td>13.966783</td>\n",
       "      <td>13.983420</td>\n",
       "    </tr>\n",
       "    <tr>\n",
       "      <td>37</td>\n",
       "      <td>11.0</td>\n",
       "      <td>10.068095</td>\n",
       "      <td>10.038527</td>\n",
       "    </tr>\n",
       "    <tr>\n",
       "      <td>38</td>\n",
       "      <td>22.3</td>\n",
       "      <td>20.971973</td>\n",
       "      <td>21.011211</td>\n",
       "    </tr>\n",
       "    <tr>\n",
       "      <td>39</td>\n",
       "      <td>7.6</td>\n",
       "      <td>7.458778</td>\n",
       "      <td>7.484297</td>\n",
       "    </tr>\n",
       "  </tbody>\n",
       "</table>\n",
       "</div>"
      ],
      "text/plain": [
       "    Actual  Old Predictions  New Predictions\n",
       "0     23.8        21.735772        21.756028\n",
       "1     16.6        16.456938        16.452830\n",
       "2      9.5         7.659932         7.684981\n",
       "3     14.8        17.892027        17.898548\n",
       "4     17.6        18.677307        18.677253\n",
       "5     25.5        23.862719        23.800113\n",
       "6     16.9        16.336236        16.289587\n",
       "7     12.9        13.456492        13.365677\n",
       "8     10.5         9.177296         9.136639\n",
       "9     17.1        17.360562        17.291461\n",
       "10    14.5        14.467799        14.419762\n",
       "11    11.3         9.856976         9.881051\n",
       "12    17.4        17.260570        17.330655\n",
       "13    16.7        16.718669        16.698149\n",
       "14    13.4        15.095303        15.006809\n",
       "15    15.9        15.589237        15.481311\n",
       "16    12.9        12.451882        12.432410\n",
       "17    12.8        17.279252        17.310643\n",
       "18     9.5        11.094411        11.167640\n",
       "19    18.4        18.068899        18.133211\n",
       "20    10.7         9.334331         9.381323\n",
       "21    12.5        12.913458        12.713537\n",
       "22     8.5         8.784280         8.750119\n",
       "23    11.5        10.466707        10.501441\n",
       "24    11.9        11.403032        11.371248\n",
       "25    14.9        15.031047        15.035936\n",
       "26    10.1         9.784794         9.773785\n",
       "27    18.9        19.460286        19.486941\n",
       "28    19.6        18.229549        18.325700\n",
       "29    15.9        17.195890        17.207105\n",
       "30    23.2        21.603042        21.661892\n",
       "31    11.9        14.719014        14.550546\n",
       "32    17.3        16.292055        16.372182\n",
       "33    11.7        12.364323        12.328836\n",
       "34    20.2        19.988313        20.026213\n",
       "35    15.5        15.375564        15.393910\n",
       "36    11.5        13.966783        13.983420\n",
       "37    11.0        10.068095        10.038527\n",
       "38    22.3        20.971973        21.011211\n",
       "39     7.6         7.458778         7.484297"
      ]
     },
     "execution_count": 34,
     "metadata": {},
     "output_type": "execute_result"
    }
   ],
   "source": [
    "compare_df = pd.DataFrame({'Actual': y_test.values.flatten(), 'Old Predictions': y_pred.flatten(),\n",
    "                           'New Predictions':y_pred2.flatten()})\n",
    "compare_df"
   ]
  },
  {
   "cell_type": "markdown",
   "metadata": {},
   "source": [
    "From the results seen above, the models predicted very similar values. To see if the new model has an overall more accurate approach, the RMSE can be calculated."
   ]
  },
  {
   "cell_type": "code",
   "execution_count": 35,
   "metadata": {
    "scrolled": true
   },
   "outputs": [
    {
     "name": "stdout",
     "output_type": "stream",
     "text": [
      "1.3982924890777741\n"
     ]
    }
   ],
   "source": [
    "# RMSE\n",
    "print(np.sqrt(metrics.mean_squared_error(y_test2, y_pred2)))"
   ]
  },
  {
   "cell_type": "markdown",
   "metadata": {},
   "source": [
    "The new model has a RMSE value of about 1.398, which is lower than the first model's. A comparison of the RMSE value from each model can be viewed below.\n",
    "\n",
    "|Model|RMSE Value|\n",
    "|:---:|:---:|\n",
    "|Old|1.4113417|\n",
    "|New|1.3982924|\n",
    "\n"
   ]
  },
  {
   "cell_type": "markdown",
   "metadata": {},
   "source": [
    "A reduced RMSE value shows that the second model does a better job predicting the sales values. Thus, taking the 'Newspaper' variable out of the regression model was the correct choice. To compare the two models visually, a scatterplot can be created, as shown below."
   ]
  },
  {
   "cell_type": "code",
   "execution_count": 36,
   "metadata": {},
   "outputs": [
    {
     "data": {
      "image/png": "[encoded data removed]",
      "text/plain": [
       "<Figure size 1080x360 with 1 Axes>"
      ]
     },
     "metadata": {
      "needs_background": "light"
     },
     "output_type": "display_data"
    },
    {
     "data": {
      "image/png": "[encoded data removed]",
      "text/plain": [
       "<Figure size 1080x360 with 1 Axes>"
      ]
     },
     "metadata": {
      "needs_background": "light"
     },
     "output_type": "display_data"
    }
   ],
   "source": [
    "import matplotlib.pyplot as plt\n",
    "\n",
    "y_test = y_test.values.ravel()\n",
    "y_test\n",
    "df = pd.DataFrame({'Actual': y_test.flatten(), 'Predicted': y_pred.flatten()})\n",
    "\n",
    "y_test2 = y_test2.values.ravel()\n",
    "y_test2\n",
    "df2 = pd.DataFrame({'Actual2': y_test2.flatten(), 'Predicted2': y_pred2.flatten()})\n",
    "\n",
    "sns.pairplot(x_vars=['Actual'], y_vars='Predicted', data = df, height=5, aspect=3)\n",
    "plt.plot(y_test, y_test + 0, linestyle='solid')\n",
    "sns.pairplot(x_vars=['Actual2'], y_vars='Predicted2', data = df2, height=5, aspect=3)\n",
    "plt.plot(y_test2, y_test2 + 0, linestyle='solid')\n",
    "plt.show()"
   ]
  },
  {
   "cell_type": "markdown",
   "metadata": {},
   "source": [
    "The two plots above show how well the model did at predicting the correct sales values. The closer the data point is to the line, the better the prediction. Data points that fall on the line are values that were predicted exactly. By inspecting the plots, it can be seen that the model was less precise when the sales values were between 12.0 and 16.0. More specifically, the model is more prone to over estimate the sales too much. "
   ]
  },
  {
   "cell_type": "markdown",
   "metadata": {},
   "source": [
    "## Save Finished Model\n",
    "\n",
    "To save the chosen model, pickle will be used. This way anytime the model needs to be used, this entire notebook does not need to be run. "
   ]
  },
  {
   "cell_type": "code",
   "execution_count": 37,
   "metadata": {},
   "outputs": [],
   "source": [
    "# Import library to save working model\n",
    "import pickle\n",
    "\n",
    "# Save the model\n",
    "filename = 'advertisment_model.sav'\n",
    "pickle.dump(LR2, open(filename, 'wb'))"
   ]
  },
  {
   "cell_type": "markdown",
   "metadata": {},
   "source": [
    "Now, anytime the linear regression model created in this notebook needs to be utilized, the below code can be ran."
   ]
  },
  {
   "cell_type": "code",
   "execution_count": 38,
   "metadata": {},
   "outputs": [
    {
     "data": {
      "text/plain": [
       "array([21.75602835, 16.45283   ,  7.68498075, 17.89854771, 18.67725322,\n",
       "       23.8001131 , 16.28958747, 13.36567675,  9.13663933, 17.29146113,\n",
       "       14.41976185,  9.88105063, 17.33065475, 16.69814917, 15.00680872,\n",
       "       15.48131088, 12.43241041, 17.31064343, 11.16764004, 18.13321062,\n",
       "        9.38132296, 12.71353738,  8.75011855, 10.5014414 , 11.37124838,\n",
       "       15.03593604,  9.77378461, 19.48694106, 18.32570002, 17.20710464,\n",
       "       21.66189194, 14.55054628, 16.37218182, 12.32883551, 20.02621323,\n",
       "       15.39390999, 13.98341958, 10.03852687, 21.01121113,  7.48429727])"
      ]
     },
     "execution_count": 38,
     "metadata": {},
     "output_type": "execute_result"
    }
   ],
   "source": [
    "# To re open model \n",
    "loaded_model = pickle.load(open(filename, 'rb'))\n",
    "prediction = loaded_model.predict(x_test2)\n",
    "prediction"
   ]
  },
  {
   "cell_type": "markdown",
   "metadata": {},
   "source": [
    "# Results\n",
    "\n",
    "The finished linear regression model created to predict the amount of profit a company can expect based on their budgets for advertising was found to be $Sales = 2.947 + (0.047 \\times TV) + (0.180 \\times Radio)$, where Sales is the amount of profit made, TV is the budget allocated to tv advertisments, and Radio is the budget allocated to radio advertisments. During the process for creating this model, it was found that the newspaper budget data had no significant statistical impact on predicting the sales profit. Overall, this model had a root mean squared value of 1.398 and a R<sup>2</sup> value of 0.886. This means that the model created is a good fit for the data provided. In order to improve this model, more data will be required to better understand the relationships between the variables. If this was a real company and their data, it would be recommended for the company to increase the budgets for tv and radio advertisments. "
   ]
  }
 ],
 "metadata": {
  "kernelspec": {
   "display_name": "Python 3",
   "language": "python",
   "name": "python3"
  },
  "language_info": {
   "codemirror_mode": {
    "name": "ipython",
    "version": 3
   },
   "file_extension": ".py",
   "mimetype": "text/x-python",
   "name": "python",
   "nbconvert_exporter": "python",
   "pygments_lexer": "ipython3",
   "version": "3.7.4"
  }
 },
 "nbformat": 4,
 "nbformat_minor": 1
}
